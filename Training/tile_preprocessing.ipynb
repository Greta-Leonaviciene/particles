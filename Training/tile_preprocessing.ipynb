{
 "cells": [
  {
   "cell_type": "markdown",
   "metadata": {},
   "source": [
    "#### This notebook is used for training and validation tile preprocessing aiming to increase the contrast"
   ]
  },
  {
   "cell_type": "code",
   "execution_count": 1,
   "metadata": {},
   "outputs": [],
   "source": [
    "import cv2\n",
    "import numpy as np\n",
    "import yaml\n",
    "import os\n",
    "import random\n",
    "from glob import glob\n",
    "import matplotlib.pyplot as plt"
   ]
  },
  {
   "cell_type": "code",
   "execution_count": 2,
   "metadata": {},
   "outputs": [],
   "source": [
    "# Function to apply contrast adjustment\n",
    "def apply_contrast_augmentation(image, contrast_factor, brightness_factor=0):\n",
    "    augmented_image = cv2.convertScaleAbs(image, alpha=contrast_factor, beta=brightness_factor)\n",
    "    return augmented_image\n",
    "\n",
    "# Function that takes tiles from the folder, applies augmentation, and then saves augmented images into a new folder\n",
    "def apply_contrast_to_tiles(input_dir, output_dir, contrast_factor, brightness_factor=0):\n",
    "    # Create the output directory if it does not exist\n",
    "    if not os.path.exists(output_dir):\n",
    "        os.makedirs(output_dir)\n",
    "\n",
    "    # Supported image extensions\n",
    "    supported_extensions = (\".jpg\", \".jpeg\", \".png\", \".tiff\")\n",
    "\n",
    "    # Iterate through the tiles in the data folder\n",
    "    for filename in os.listdir(input_dir):\n",
    "        if filename.lower().endswith(supported_extensions):\n",
    "            file_path = os.path.join(input_dir, filename)\n",
    "            \n",
    "            # Load the image\n",
    "            image = cv2.imread(file_path)\n",
    "            if image is None:\n",
    "                print(f\"Warning: Failed to load image {filename}. Skipping.\")\n",
    "                continue\n",
    "            \n",
    "            # Apply contrast and brightness augmentation\n",
    "            augmented_image = apply_contrast_augmentation(image, contrast_factor, brightness_factor)\n",
    "\n",
    "            # Save the augmented image as a PNG file\n",
    "            tile_filename = f\"{os.path.splitext(filename)[0]}.png\"\n",
    "            tile_filepath = os.path.join(output_dir, tile_filename)\n",
    "            cv2.imwrite(tile_filepath, augmented_image)\n",
    "            print(f\"Saved augmented image: {tile_filepath}\")"
   ]
  },
  {
   "cell_type": "code",
   "execution_count": 3,
   "metadata": {},
   "outputs": [],
   "source": [
    "contrast_factor = 2\n",
    "brightness_factor = -150"
   ]
  },
  {
   "cell_type": "code",
   "execution_count": 5,
   "metadata": {},
   "outputs": [],
   "source": [
    "# # Check alpha and beta values before applying augmentation to all tiles\n",
    "# img_path = \"test_image.png\"  # Replace with the path to your image file\n",
    "# image = cv2.imread(img_path)\n",
    "# augmented_image = apply_contrast_augmentation(image, contrast_factor, brightness_factor)\n",
    "        \n",
    "# # Convert the images from BGR (OpenCV) to RGB (Matplotlib)\n",
    "# image_rgb = cv2.cvtColor(image, cv2.COLOR_BGR2RGB)\n",
    "# augmented_image_rgb = cv2.cvtColor(augmented_image, cv2.COLOR_BGR2RGB)\n",
    "\n",
    "# # Display the original and augmented images side by side using matplotlib\n",
    "# plt.figure(figsize=(10, 5))\n",
    "\n",
    "# # Show original image\n",
    "# plt.subplot(1, 2, 1)\n",
    "# plt.imshow(image_rgb)\n",
    "# plt.title(\"Original Image\")\n",
    "# plt.axis('off')\n",
    "\n",
    "# # Show augmented image\n",
    "# plt.subplot(1, 2, 2)\n",
    "# plt.imshow(augmented_image_rgb)\n",
    "# plt.title(f'Augmented Image (Brightness factor: {brightness_factor})')\n",
    "# plt.axis('off')\n",
    "\n",
    "# # Show the images\n",
    "# plt.show()\n",
    "\n",
    "# # Optionally, save the augmented image\n",
    "# output_path = \"augmented_image.jpg\"\n",
    "# cv2.imwrite(output_path, augmented_image)\n",
    "# print(f\"Augmented image saved as {output_path}\")\n"
   ]
  },
  {
   "cell_type": "code",
   "execution_count": null,
   "metadata": {},
   "outputs": [],
   "source": [
    "input_dir = \"data/train/images\"\n",
    "output_dir = \"data_aug/train/images\"\n",
    "apply_contrast_to_tiles(input_dir, output_dir, contrast_factor, brightness_factor)"
   ]
  },
  {
   "cell_type": "code",
   "execution_count": null,
   "metadata": {},
   "outputs": [],
   "source": [
    "input_dir = \"data/valid/images\"\n",
    "output_dir = \"data_aug/valid/images\"\n",
    "apply_contrast_to_tiles(input_dir, output_dir, contrast_factor, brightness_factor)"
   ]
  }
 ],
 "metadata": {
  "kernelspec": {
   "display_name": "myenv",
   "language": "python",
   "name": "python3"
  },
  "language_info": {
   "codemirror_mode": {
    "name": "ipython",
    "version": 3
   },
   "file_extension": ".py",
   "mimetype": "text/x-python",
   "name": "python",
   "nbconvert_exporter": "python",
   "pygments_lexer": "ipython3",
   "version": "3.12.3"
  }
 },
 "nbformat": 4,
 "nbformat_minor": 2
}
